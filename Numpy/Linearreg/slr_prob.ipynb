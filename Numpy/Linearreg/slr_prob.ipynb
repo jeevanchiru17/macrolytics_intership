{
 "cells": [
  {
   "cell_type": "code",
   "execution_count": null,
   "metadata": {},
   "outputs": [],
   "source": [
    "import pandas as pd\n",
    "import numpy as np\n",
    "from sklearn.linear_model import LinearRegression\n",
    "\n",
    "# Creating a DataFrame with provided data\n",
    "data = pd.read_excel('/Users/jeevanhr/Numpy/Linearreg/slr_Practice.xlsx')\n",
    "\n",
    "df = pd.DataFrame(data)\n",
    "\n",
    "# Reshape X to a 2D array\n",
    "X = df['Marketing Budget (X) (In lakhs)'].values.reshape(-1, 1)\n",
    "y = df['Actual Sales(Y) (In crores)'].values\n",
    "\n",
    "# Fit a linear regression model\n",
    "model = LinearRegression()\n",
    "model.fit(X, y)\n",
    "\n",
    "# Predicted Sales (Y-pred)\n",
    "df['Predicted Sales (Y-pred)'] = model.predict(X)\n",
    "\n",
    "# Residuals\n",
    "df['Residuals'] = df['Actual Sales(Y) (In crores)'] - df['Predicted Sales (Y-pred)']\n",
    "\n",
    "# Residual Squares\n",
    "df['Residual Squares'] = df['Residuals'] ** 2\n",
    "\n",
    "# Sum of Squares\n",
    "df['Sum of Squares'] = df['Residual Squares'].sum()\n",
    "\n",
    "# Displaying the DataFrame with calculated values\n",
    "df\n"
   ]
  },
  {
   "cell_type": "code",
   "execution_count": null,
   "metadata": {},
   "outputs": [],
   "source": [
    "import matplotlib.pyplot as plt\n",
    "\n",
    "# Scatter plot for Actual Sales and Predicted Sales\n",
    "plt.figure(figsize=(10, 6))\n",
    "plt.scatter(df['Marketing Budget (X) (In lakhs)'], df['Actual Sales(Y) (In crores)'], label='Actual Sales')\n",
    "plt.plot(df['Marketing Budget (X) (In lakhs)'], df['Predicted Sales (Y-pred)'], color='red', label='Predicted Sales')\n",
    "plt.xlabel('Marketing Budget (X) (In lakhs)')\n",
    "plt.ylabel('Sales (In crores)')\n",
    "plt.title('Actual vs Predicted Sales')\n",
    "plt.legend()\n",
    "plt.show()\n",
    "\n",
    "# Plot for Residual Squares\n",
    "plt.figure(figsize=(10, 6))\n",
    "plt.scatter(df['Marketing Budget (X) (In lakhs)'], df['Residual Squares'])\n",
    "plt.xlabel('Marketing Budget (X) (In lakhs)')\n",
    "plt.ylabel('Residual Squares')\n",
    "plt.title('Residual Squares vs Marketing Budget')\n",
    "plt.show()\n"
   ]
  },
  {
   "cell_type": "code",
   "execution_count": null,
   "metadata": {},
   "outputs": [],
   "source": []
  },
  {
   "cell_type": "code",
   "execution_count": null,
   "metadata": {},
   "outputs": [],
   "source": [
    "pip install scikit-learn"
   ]
  },
  {
   "cell_type": "code",
   "execution_count": null,
   "metadata": {},
   "outputs": [],
   "source": []
  }
 ],
 "metadata": {
  "kernelspec": {
   "display_name": "Python 3",
   "language": "python",
   "name": "python3"
  },
  "language_info": {
   "codemirror_mode": {
    "name": "ipython",
    "version": 3
   },
   "file_extension": ".py",
   "mimetype": "text/x-python",
   "name": "python",
   "nbconvert_exporter": "python",
   "pygments_lexer": "ipython3",
   "version": "3.11.6"
  }
 },
 "nbformat": 4,
 "nbformat_minor": 2
}
