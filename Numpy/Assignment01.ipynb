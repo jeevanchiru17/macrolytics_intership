{
 "cells": [
  {
   "cell_type": "code",
   "execution_count": null,
   "id": "301e1efc-45c8-41fe-944c-58f11cf31d48",
   "metadata": {},
   "outputs": [],
   "source": [
    "#### Assignments : \n",
    "#### 1. Solve Below Linear Equations using array.\n",
    "#### 2x + 5y - 8z = 2\n",
    "#### 6x + 4y -5z = 14\n",
    "####  9x -3y + 3z = 7"
   ]
  },
  {
   "cell_type": "code",
   "execution_count": 1,
   "id": "4405b33d-65af-43e5-9ac1-be2803a89f93",
   "metadata": {},
   "outputs": [
    {
     "name": "stdout",
     "output_type": "stream",
     "text": [
      "[1.52252252 6.30630631 4.07207207]\n"
     ]
    }
   ],
   "source": [
    "import numpy as np\n",
    "a = np.array([[2,5,-8],[6,4,-5],[9,-3,3]])\n",
    "b = np.array([2,14,7])\n",
    "\n",
    "x = np.linalg.solve(a,b)\n",
    "print(x)"
   ]
  },
  {
   "cell_type": "code",
   "execution_count": null,
   "id": "704b510a-c9d8-4ebf-b44e-9c6fe495573e",
   "metadata": {},
   "outputs": [],
   "source": [
    "#### 2. Create an array using numpy with multiple data types"
   ]
  },
  {
   "cell_type": "code",
   "execution_count": 2,
   "id": "05b9c934-e17c-43ee-947e-8eeaecdf3230",
   "metadata": {},
   "outputs": [
    {
     "name": "stdout",
     "output_type": "stream",
     "text": [
      "[(1, \"I'm\", 3.12) (2, 'writing', 4.12) (3, 'a book', 5.12)]\n"
     ]
    }
   ],
   "source": [
    "import numpy as np\n",
    "a = np.array([(1,\"I'm\",3.12),(2,\"writing\",4.12),(3,\"a book\",5.12)],dtype=[(\"id\",int),(\"words\",\"U10\"),(\"decimal\",float)])\n",
    "print(a)"
   ]
  },
  {
   "cell_type": "code",
   "execution_count": null,
   "id": "bd2ecd5f-4b6e-41d4-8cdb-adbfc0ad66d1",
   "metadata": {},
   "outputs": [],
   "source": []
  }
 ],
 "metadata": {
  "kernelspec": {
   "display_name": "Python 3 (ipykernel)",
   "language": "python",
   "name": "python3"
  },
  "language_info": {
   "codemirror_mode": {
    "name": "ipython",
    "version": 3
   },
   "file_extension": ".py",
   "mimetype": "text/x-python",
   "name": "python",
   "nbconvert_exporter": "python",
   "pygments_lexer": "ipython3",
   "version": "3.11.6"
  }
 },
 "nbformat": 4,
 "nbformat_minor": 5
}
